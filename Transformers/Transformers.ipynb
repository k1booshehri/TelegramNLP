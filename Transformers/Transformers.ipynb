{
  "cells": [
    {
      "cell_type": "code",
      "execution_count": null,
      "metadata": {
        "id": "JmOJzn4H7B7N"
      },
      "outputs": [],
      "source": [
        "!pip install simpletransformers\n",
        "from simpletransformers.classification import ClassificationModel\n",
        "model = ClassificationModel('roberta', 'roberta-base', num_labels=2, args={'learning_rate':1e-5, 'num_train_epochs': 1, 'reprocess_input_data': True, 'overwrite_output_dir': True})\n",
        "\n"
      ]
    },
    {
      "cell_type": "code",
      "execution_count": null,
      "metadata": {
        "id": "a7CEBiS09VMB"
      },
      "outputs": [],
      "source": [
        "import pandas as pd\n",
        "\n",
        "\n",
        "train_df = pd.read_csv('train.csv', header=None)\n",
        "\n",
        "\n",
        "eval_df = pd.read_csv('test.csv', header=None)\n"
      ]
    },
    {
      "cell_type": "code",
      "execution_count": null,
      "metadata": {
        "id": "wjwkOTSS_Tn4"
      },
      "outputs": [],
      "source": [
        "\n",
        "model.train_model(train_df)"
      ]
    },
    {
      "cell_type": "code",
      "source": [
        "from sklearn.metrics import f1_score, accuracy_score\n",
        "\n",
        "\n",
        "def f1_multiclass(labels, preds):\n",
        "    return f1_score(labels, preds, average='micro')\n",
        "    \n",
        "result, model_outputs, wrong_predictions = model.eval_model(eval_df, f1=f1_multiclass, acc=accuracy_score)\n"
      ],
      "metadata": {
        "id": "zC-IdvQoQTuk"
      },
      "execution_count": null,
      "outputs": []
    },
    {
      "cell_type": "code",
      "source": [
        "print(result)"
      ],
      "metadata": {
        "colab": {
          "base_uri": "https://localhost:8080/"
        },
        "id": "tdwTgRBEQgrC",
        "outputId": "b2b77cdf-5d09-4e5c-8c27-74e7e12d85b9"
      },
      "execution_count": null,
      "outputs": [
        {
          "output_type": "stream",
          "name": "stdout",
          "text": [
            "{'mcc': 0.989655681759032, 'tp': 186, 'tn': 197, 'fp': 2, 'fn': 0, 'auroc': 1.0, 'auprc': 1.0, 'f1': 0.9948051948051949, 'acc': 0.9948051948051948, 'eval_loss': 0.017528683555369476}\n"
          ]
        }
      ]
    }
  ],
  "metadata": {
    "colab": {
      "name": "Untitled3.ipynb",
      "provenance": []
    },
    "kernelspec": {
      "display_name": "Python 3",
      "name": "python3"
    },
    "language_info": {
      "name": "python"
    },
    "accelerator": "GPU",
    "gpuClass": "standard"
  },
  "nbformat": 4,
  "nbformat_minor": 0
}