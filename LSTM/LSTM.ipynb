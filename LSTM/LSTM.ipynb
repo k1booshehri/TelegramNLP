{
  "nbformat": 4,
  "nbformat_minor": 0,
  "metadata": {
    "colab": {
      "name": "Untitled4.ipynb",
      "provenance": []
    },
    "kernelspec": {
      "name": "python3",
      "display_name": "Python 3"
    },
    "language_info": {
      "name": "python"
    }
  },
  "cells": [
    {
      "cell_type": "code",
      "execution_count": 67,
      "metadata": {
        "id": "GLFwMLC0jbkY"
      },
      "outputs": [],
      "source": [
        "from keras.preprocessing.text import Tokenizer\n",
        "from keras.preprocessing.sequence import pad_sequences\n",
        "from keras.models import Sequential\n",
        "from keras import layers\n",
        "from sklearn.model_selection import train_test_split\n",
        "from sklearn.metrics import confusion_matrix\n",
        "import pandas as pd\n",
        "import numpy as np\n",
        "from sklearn.metrics import accuracy_score\n",
        "from keras.layers import LSTM"
      ]
    },
    {
      "cell_type": "code",
      "source": [
        "df = pd.read_csv('train.csv')\n",
        "dft = pd.read_csv('test.csv')\n",
        "\n",
        "df.columns = [\"text\",\"lable\"]\n",
        "dft.columns = [\"text\",\"lable\"]\n",
        "\n",
        "y_train = df['lable'].values\n",
        "x_train = df['text'].values\n",
        "\n",
        "y_test = dft['lable'].values\n",
        "x_test = dft['text'].values\n",
        "\n",
        "tokenizer = Tokenizer()\n",
        "tokenizer.fit_on_texts(x_train)\n",
        "xtrain= tokenizer.texts_to_sequences(x_train)\n",
        "xtest= tokenizer.texts_to_sequences(x_test)\n",
        "\n"
      ],
      "metadata": {
        "id": "-1KJGztVFmze"
      },
      "execution_count": 68,
      "outputs": []
    },
    {
      "cell_type": "code",
      "source": [
        "V_size=len(tokenizer.word_index)+1\n",
        "\n",
        "length=5\n",
        "xtrain=pad_sequences(xtrain,padding='post', maxlen=length)\n",
        "xtest=pad_sequences(xtest,padding='post', maxlen=length) \n",
        " \n",
        "model=Sequential()\n",
        "model.add(layers.Embedding(input_dim=V_size,output_dim=1, input_length=length))\n",
        "model.add(layers.LSTM(units=1))\n",
        "model.compile(optimizer=\"adam\", loss=\"binary_crossentropy\", metrics=['accuracy'])\n",
        "model.summary()\n",
        "model.fit(xtrain,y_train, epochs=100, batch_size=10, verbose=False)\n",
        "ypred=model.predict(xtest)\n",
        "\n",
        "ypred[ypred>0.5]=1 \n",
        "ypred[ypred<=0.5]=0 \n",
        "print(\"Accurancy:\",accuracy_score(y_test, ypred)*100)\n"
      ],
      "metadata": {
        "colab": {
          "base_uri": "https://localhost:8080/"
        },
        "id": "cqDRSf9PTDzY",
        "outputId": "fb00f4d0-9f7e-452a-e9c1-98d2e066c7aa"
      },
      "execution_count": 69,
      "outputs": [
        {
          "output_type": "stream",
          "name": "stdout",
          "text": [
            "Model: \"sequential_21\"\n",
            "_________________________________________________________________\n",
            " Layer (type)                Output Shape              Param #   \n",
            "=================================================================\n",
            " embedding_17 (Embedding)    (None, 5, 1)              6936      \n",
            "                                                                 \n",
            " lstm_20 (LSTM)              (None, 1)                 12        \n",
            "                                                                 \n",
            "=================================================================\n",
            "Total params: 6,948\n",
            "Trainable params: 6,948\n",
            "Non-trainable params: 0\n",
            "_________________________________________________________________\n",
            "Accurancy: 92.44791666666666\n"
          ]
        }
      ]
    },
    {
      "cell_type": "code",
      "source": [
        ""
      ],
      "metadata": {
        "id": "AOfuEX9jIWkb"
      },
      "execution_count": 69,
      "outputs": []
    },
    {
      "cell_type": "code",
      "source": [
        ""
      ],
      "metadata": {
        "id": "yYlqd0oGfS6K"
      },
      "execution_count": 69,
      "outputs": []
    }
  ]
}